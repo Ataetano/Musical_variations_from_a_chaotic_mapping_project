{
 "cells": [
  {
   "cell_type": "markdown",
   "id": "6d2a0c60",
   "metadata": {},
   "source": [
    "## ODE 2 \n",
    "เพื่อที่จะเข้าใจใน Paper มากขึ้น เราจึงเลือกที่จะศึกษาตามที่ Paper ได้กล่าวอ้างไว้ในประโยคที่ว่า <Strong>\"using a fourth-order Runge–Kutta implementation of the Lorenz equations\"</Strong> \\\n",
    "(ศึกษาจากคลิป https://www.youtube.com/watch?v=EXvLju3DLMY) \\\n",
    "### Basic knowledge\n",
    "$\\dot{y} = f(t,y)$ \\\n",
    "Last time we saw the $4^{th}$ order Runge kutta integrate ('ode45')\n",
    "$$\n",
    "\\begin{equation}\n",
    "y_{k+1} = y_k + \\frac{\\Delta{t}}{6}[f_1 + 2f_2 + 2f_3 + f_4]\n",
    "\\end{equation}\n",
    "$$\n",
    "$$\n",
    "\\begin{align}\n",
    "f_1 & = f(t_k, y_k) \\\\\n",
    "f_2 & = f(t_k + \\frac{\\Delta{t}}{2}, y_k + \\frac{\\Delta{t}}{2}f_1) \\\\\n",
    "f_3 & = f(t_k + \\frac{\\Delta{t}}{2}, y_k + \\frac{\\Delta{t}}{2}f_2) \\\\\n",
    "f_4 & = f(t_k + \\Delta{t}, y_k + \\Delta{t}f_3)\n",
    "\\end{align}\n",
    "$$\n",
    "Note: $\\frac{\\Delta{t}}{2}$ \"half\" Forward Euler based on $f_1$ and $f_2$\n",
    "### Property\n",
    "- very accurate $O(\\Delta{t^5})$ local, $O(\\Delta{t^4})$ global\n",
    "- uses four evaluations of f(t,y)\n",
    "\n",
    "$\\underline{Example}$ Lorenz model (1963 atmospheric convection model)\n",
    "$$\n",
    "\\begin{align}\n",
    "\\dot{x} & = \\sigma(y - x) \\\\\n",
    "\\dot{y} & = x(\\rho - z) - y \\\\\n",
    "\\dot{z} & = xy - \\beta{z}\n",
    "\\end{align}\n",
    "$$ \n",
    "parameters may lead to 'chaos' when $\\rho=28, \\ \\sigma=10, \\ \\beta=\\frac{8}{3}$"
   ]
  },
  {
   "cell_type": "code",
   "execution_count": 18,
   "id": "ffd8737d",
   "metadata": {},
   "outputs": [],
   "source": [
    "#ต้นฉบับจะใช้เป็น MATLAB แต่เราจะเขียนเป็น python \n",
    "\n",
    "def rk4singlestep(func, dt, tk, yk):\n",
    "    \"\"\"\n",
    "    yout is y_{k+1}\n",
    "    func is my right hand side of \\dot{y}=f(t,y)\n",
    "    \"\"\"\n",
    "    f1 = func(tk, yk)\n",
    "    f2 = func(tk + dt/2, yk + (dt/2)*f1)\n",
    "    f3 = func(tk + dt/2, yk + (dt/2)*f2)\n",
    "    f4 = func(tk + dt, yk + dt*f3)\n",
    "    \n",
    "    yout = yk + (dt/6)*(f1 + 2*f2 + 2*f3 + f4)\n",
    "    return yout\n",
    "\n",
    "sigma = 10\n",
    "beta = 8/3\n",
    "rho = 28\n",
    "\n",
    "def lorenz(t, y=None, sigma=sigma, beta=beta, rho=rho):\n",
    "    # y is three dimensional state-vector\n",
    "    dy = [sigma*(y[1], y[0]), # sigma(y - x)\n",
    "          y[0]*(rho - y[2]) - y[1], # x*(rho - z) - y\n",
    "          y[0]*y[1] - beta*y[2]] # x*y - beta*z\n",
    "    return dy"
   ]
  },
  {
   "cell_type": "code",
   "execution_count": 42,
   "id": "a8d5158d",
   "metadata": {},
   "outputs": [],
   "source": [
    "#ทำเองขึ้นมา\n",
    "def FORK(func, dt, tk, yk):\n",
    "    f1 = func(tk, yk)\n",
    "    f2 = func(tk + dt/2, yk + (dt/2)*f1)\n",
    "    f3 = func(tk + dt/2, yk + (dt/2)*f2)\n",
    "    f4 = func(tk + dt, yk + dt*f3)\n",
    "    ykk = yk + (dt/6)*(f1 + 2*f2 + 2*f3 + f4)\n",
    "    return ykk\n",
    "\n",
    "def test(t,x=None):\n",
    "    return 10*(x[1]-x[0])"
   ]
  },
  {
   "cell_type": "code",
   "execution_count": null,
   "id": "4dd8fe3d",
   "metadata": {},
   "outputs": [],
   "source": [
    "FORK(func=test, dt=0.01, tk=0, yk=[1,1])"
   ]
  }
 ],
 "metadata": {
  "kernelspec": {
   "display_name": "Python 3 (ipykernel)",
   "language": "python",
   "name": "python3"
  },
  "language_info": {
   "codemirror_mode": {
    "name": "ipython",
    "version": 3
   },
   "file_extension": ".py",
   "mimetype": "text/x-python",
   "name": "python",
   "nbconvert_exporter": "python",
   "pygments_lexer": "ipython3",
   "version": "3.9.7"
  }
 },
 "nbformat": 4,
 "nbformat_minor": 5
}
