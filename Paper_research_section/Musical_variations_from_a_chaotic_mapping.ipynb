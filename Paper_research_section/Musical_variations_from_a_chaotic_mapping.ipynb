{
 "cells": [
  {
   "cell_type": "markdown",
   "id": "7682af69",
   "metadata": {},
   "source": [
    "# เนื้อหาหลักที่จะศึกษา\n",
    "___\n",
    "สำหรับเนื้อหาหลักที่เราศึกษาจะขอแบ่งไว้เป็นหัวข้อดังต่อไปนี้\n",
    "- [ ] อะไรคือ Lorenz equations ?\n",
    "- [ ] การนำ Lorenz equations มาใช้ใน Jupyter Notebook\n",
    "- [ ] การประยุกต์ใช้ Lorenz equations ในทางการทำดนตรี"
   ]
  },
  {
   "cell_type": "markdown",
   "id": "e867ccd3",
   "metadata": {},
   "source": [
    "### อะไรคือ Lorenz equations ?\n",
    "___\n",
    "จากการอ่าน Paper ครั้งแรก ทำให้เราพบกับเนื้อหาที่น่าสนใจเป็นอย่างมากนั้นก็คือ <Strong>\"Lorenz equations\"</Strong> โดยใน Paper ได้ระบุระบบสมการของ Lorenz equations ไว้ดังต่อไปนี้ \n",
    "\n",
    "$$\n",
    "\\begin{align}\n",
    "\\dot{x} & = \\sigma(y - x), \\tag{1} \\\\\n",
    "\\dot{y} & = rx - y - xz, \\tag{2} \\\\\n",
    "\\dot{z} & = xy - bz, \\tag{3}\n",
    "\\end{align}\n",
    "$$ \n",
    "\n",
    "จากการค้นคว้าในตอนนี้ทำให้เราทราบว่า $\\dot{x} \\ \\dot{y} \\ \\dot{z}$ คือ \"derivative with respect to time\" โดยเราอาจเขียนสมการข้างต้นดังรูปต่อนี้ได้\n",
    "$$\n",
    "\\begin{align}\n",
    "\\dfrac{dx}{dt} & = \\sigma(y - x), \\tag{1} \\\\\n",
    "\\dfrac{dy}{dt} & = rx - y - xz, \\tag{2} \\\\\n",
    "\\dfrac{dz}{dt} & = xy - bz, \\tag{3}\n",
    "\\end{align}\n",
    "$$ \n",
    "สำหรับตอนนี้ขอไว้เพียงเท่านี้ก่อนแล้วเดี่ยวเราจะมาศึกษา Lorenz equations ต่อ \\\n",
    "12/22/2023"
   ]
  },
  {
   "cell_type": "code",
   "execution_count": null,
   "id": "6504b1ea",
   "metadata": {},
   "outputs": [],
   "source": []
  }
 ],
 "metadata": {
  "kernelspec": {
   "display_name": "Python 3 (ipykernel)",
   "language": "python",
   "name": "python3"
  },
  "language_info": {
   "codemirror_mode": {
    "name": "ipython",
    "version": 3
   },
   "file_extension": ".py",
   "mimetype": "text/x-python",
   "name": "python",
   "nbconvert_exporter": "python",
   "pygments_lexer": "ipython3",
   "version": "3.9.7"
  }
 },
 "nbformat": 4,
 "nbformat_minor": 5
}
