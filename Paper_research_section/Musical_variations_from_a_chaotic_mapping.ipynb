{
 "cells": [
  {
   "cell_type": "markdown",
   "id": "7682af69",
   "metadata": {},
   "source": [
    "# เนื้อหาหลักที่จะศึกษา\n",
    "สำหรับเนื้อหาหลักที่เราศึกษาจะขอแบ่งไว้เป็นหัวข้อดังต่อไปนี้\n",
    "- [ ] อะไรคือ Lorenz equations ?\n",
    "- [ ] การนำ Lorenz equations มาใช้ใน Jupyter Notebook\n",
    "- [ ] การประยุกต์ใช้ Lorenz equations ในทางการทำดนตรี\n",
    "___"
   ]
  },
  {
   "cell_type": "markdown",
   "id": "e867ccd3",
   "metadata": {},
   "source": [
    "## อะไรคือ Lorenz equations ?\n",
    "จากการอ่าน Paper ครั้งแรก ทำให้เราพบกับเนื้อหาที่น่าสนใจเป็นอย่างมากนั้นก็คือ <Strong>\"Lorenz equations\"</Strong> โดยใน Paper ได้ระบุระบบสมการของ Lorenz equations ไว้ดังต่อไปนี้ \n",
    "\n",
    "$$\n",
    "\\begin{align}\n",
    "\\dot{x} & = \\sigma(y - x), \\tag{1} \\\\\n",
    "\\dot{y} & = rx - y - xz, \\tag{2} \\\\\n",
    "\\dot{z} & = xy - bz, \\tag{3}\n",
    "\\end{align}\n",
    "$$ \n",
    "\n",
    "จากการค้นคว้าในตอนนี้ทำให้เราทราบว่า $\\dot{x} \\ \\dot{y} \\ \\dot{z}$ คือ \"derivative with respect to time\" โดยเราอาจเขียนสมการข้างต้นดังรูปต่อนี้ได้\n",
    "$$\n",
    "\\begin{align}\n",
    "\\dfrac{dx}{dt} & = \\sigma(y - x), \\tag{1} \\\\\n",
    "\\dfrac{dy}{dt} & = rx - y - xz, \\tag{2} \\\\\n",
    "\\dfrac{dz}{dt} & = xy - bz, \\tag{3}\n",
    "\\end{align}\n",
    "$$ \n",
    "___\n",
    "## องค์ประกอบข้างในของ Lorenz equations\n",
    "อ้างอิงจาก The Lorenz (1963) Equations ทำให้เราได้ข้อมูลเพิ่มเติมมาอีกว่า Lorenz equations ตัวแปรต่างๆ ที่ไม่ได้เป็น $x \\ y \\ z$ ก็มีชื่อที่ใช้กันดังนี้ /\n",
    "- $\\sigma$ มีชื่อเรียกว่า Prandtl number \n",
    "- $r$ มีชื่อเรียกว่า Rayleigh number\n",
    "- $b$ ไม่มีชื่อเรียกแต่เป็น parameters ที่มีค่ามากกว่า 0 ($b > 0$)\n",
    "\n",
    "### สมบัติพื้นฐานของ  Lorenz equations\n",
    "1. Nonlinearity: ระบบสมการนี้มี xy และ xz (rx ไม่ถูกจัดอยู่ใน Nonlinearity อาจจะเป็นเพราะว่า r เป็นค่าคงที่ตัวหนึ่งที่จะใส่เป็นเลขอะไรก็ได้)\n",
    "2. Symmetry: ระบบสมการนี้ invariant (ไม่เปลี่ยนแปลง?) ภายใต้ $(x,y) \\rightarrow (-x,-y)$ ถ้า $(x(t),y(t),z(t))$ เป็นคำตอบของระบบสมการ  $(-x(t),-y(t),-z(t))$ เองก็เป็นคำตอบของระบบสมการเช่นกัน\n",
    "3. Volume contraction: ระบบสมการ Lorenz เป็น dissipative (กระจาย?)\n",
    "4. Fixed points: $(x^*,y^*,z^*)=(0,0,0)$ เป็นจุดตรึงสำหรับทุกค่า parameter นอกจากนี้ สำหรับ $r>1$ ยังมี pair ของจุดตรึง $C^{\\pm}$ ที่ $x^*=y^*=\\pm \\sqrt{b(r-1)}, \\ z^*=r-1 $ [These coalesce with the origin as $r \\rightarrow 1^+$ in a <span style=\"color:red\">pitchfork bifurcation</span>]\n",
    "\n",
    "### Linear stability of the origin\n",
    "จากการศึกษาหัวข้อนี้ ดูเหมือนว่าจะมีการทำ Lorenz equations ให้เป็นเชิงเส้นดังสมการต่อไปนี้แล้ว\n",
    "$$\n",
    "\\begin{align}\n",
    "\\dot{x} & = \\sigma(y - x) \\\\\n",
    "\\dot{y} & = rx - y \\\\\n",
    "\\dot{z} & = bz\n",
    "\\end{align}\n",
    "$$ \n",
    "โดยถ้าใช้ความรู้ที่เราเรียนมาจาก Dynamical system เราจะได้ผลเฉลยของระบบสมการดังนี้ \\\n",
    "กำหนดให้ $\\dot{x} = x_{1}^{\\prime}, \\dot{y} = x_{2}^{\\prime}, \\dot{z} = x_{3}^{\\prime}$ เราจะได้ระบบสมการ\n",
    "$$\n",
    "\\begin{align}\n",
    "x_{1}^{\\prime} & = \\sigma(x_{2} - x_{1}) \\\\\n",
    "x_{2}^{\\prime} & = rx_{1} - x_{2} \\\\\n",
    "x_{3}^{\\prime} & = bx_{3}\n",
    "\\end{align}\n",
    "$$ \n",
    "สมการลักษณะเฉพาะ คือ \n",
    "$$\n",
    "\\begin{align}\n",
    "det(A - \\lambda{I}) & = 0 \\\\\n",
    "det\\left(\n",
    "\\begin{pmatrix}\n",
    "-\\sigma & \\sigma & 0 \\\\\n",
    "r & -1 & 0 \\\\\n",
    "0 & 0 & b\n",
    "\\end{pmatrix} - \\begin{pmatrix}\n",
    "\\lambda & 0 & 0 \\\\\n",
    "0 & \\lambda & 0 \\\\\n",
    "0 & 0 & \\lambda\n",
    "\\end{pmatrix}\\right)\n",
    "& = 0 \\\\ \n",
    "det\n",
    "\\begin{pmatrix}\n",
    "-\\sigma - \\lambda & \\sigma & 0 \\\\\n",
    "r & -1 - \\lambda & 0 \\\\\n",
    "0 & 0 & b - \\lambda\n",
    "\\end{pmatrix} & = 0 \\\\\n",
    "(-\\sigma - \\lambda)(-1 - \\lambda)(b - \\lambda) + 0 + 0 - [0 + 0 + (b - \\lambda)(r)(\\sigma)] & = 0 \\\\\n",
    "-\\lambda^3 + \\lambda^2{b} - \\lambda^2{\\sigma} - \\lambda^2 + \\lambda\\sigma{b} + \\lambda{\\sigma{r}} + \\lambda{b} - \\lambda\\sigma + \\sigma{b} - r\\sigma{b} &= 0 \\\\\n",
    "\\lambda^3 + (b - \\sigma - 1)\\lambda^2 + (\\sigma{b} + \\sigma{r} + b - \\sigma)\\lambda + (1 - r)\\sigma{b} & = 0\n",
    "\\end{align}\n",
    "$$ \n",
    "โดยถ้าเรากำหนดให้ $r=28, \\ \\sigma=10, \\ b=\\frac{8}{3}$ ลงไปในสมการลักษณะเฉพาะ เราจะได้\n",
    "$$\n",
    "\\begin{align}\n",
    "\\lambda^3 + (\\frac{8}{3} - 10 - 1)\\lambda^2 + (10\\left(\\frac{8}{3}\\right) + 10(28) + \\frac{8}{3} - 10)\\lambda + (1 - 28)10\\left(\\frac{8}{3}\\right) & = 0 \\\\\n",
    "\\lambda^3 -\\frac{25}{3}\\lambda^2 + \\frac{898}{3}\\lambda - 720 & = 0\n",
    "\\end{align}\n",
    "$$\n",
    "สมการลักษณะเฉพาะที่เรามี ดูเหมือนว่าเราจะคิดมือไม่ได้ง่ายๆ แล้ว ดังนั้น เรามาใช้วิธีการ Numerical Method หาค่า $\\lambda$ กัน"
   ]
  },
  {
   "cell_type": "code",
   "execution_count": 1,
   "id": "ebd621f9",
   "metadata": {},
   "outputs": [
    {
     "data": {
      "image/png": "[encoded data removed]",
      "text/plain": [
       "<Figure size 864x432 with 1 Axes>"
      ]
     },
     "metadata": {
      "needs_background": "light"
     },
     "output_type": "display_data"
    }
   ],
   "source": [
    "import matplotlib.pyplot as plt\n",
    "import numpy as np\n",
    "def f(λ):\n",
    "    return λ**3 - (25/3)*λ**2 + (898/3)*λ - 720\n",
    "λ = np.linspace(2.5293965440830,2.529396544848,1000)\n",
    "y = f(λ)\n",
    "\n",
    "plt.figure(figsize=(12,6))\n",
    "plt.grid()\n",
    "plt.xlabel(\"λ\", fontsize=30)\n",
    "plt.ylabel(\"y\", fontsize=30)\n",
    "plt.plot(λ, y)\n",
    "plt.plot(λ, [0]*1000, color='red')\n",
    "plt.show();"
   ]
  },
  {
   "cell_type": "code",
   "execution_count": 2,
   "id": "3fa1f12e",
   "metadata": {},
   "outputs": [
    {
     "name": "stdout",
     "output_type": "stream",
     "text": [
      "เช็คว่า λ = 2.5293965440849 ทำให้ f(2.5293965440849) = 0.0000000000\n"
     ]
    }
   ],
   "source": [
    "print(f\"เช็คว่า λ = 2.5293965440849 ทำให้ f(2.5293965440849) = {f(2.5293965440849):.10f}\")"
   ]
  },
  {
   "cell_type": "code",
   "execution_count": 3,
   "id": "5062ea4a",
   "metadata": {},
   "outputs": [
    {
     "name": "stdout",
     "output_type": "stream",
     "text": [
      "--------------------------------------------------\n",
      "Bisection Method Result: 2.5385822078\n",
      "--------------------------------------------------\n",
      "--------------------------------------------------\n",
      "False-Position Method Result: 2.5385822078\n",
      "--------------------------------------------------\n",
      "--------------------------------------------------\n",
      "Newton Raphson Method Result: 2.5385822078\n",
      "--------------------------------------------------\n",
      "เช็คว่า λ = 2.5385822078 ทำให้ f(2.5385822078) = 2.5385822167\n",
      "เราจะเห็นว่าค่าที่ได้จากข้างต้น มีความคลาดเคลื่อนจากค่าที่ทำให้ f เข้าใกล้ 0 เป็นอย่างมากถึง 0.0092 ซึ่งมันมากเกินกว่าจะยอมรับได้\n"
     ]
    }
   ],
   "source": [
    "from basic_nm_function import *\n",
    "#คาดการณ์ว่า เศษส่วนอาจมีผลต่อการคำนวณ จึงทำให้ค่า λ ที่เราได้จากการทำ Numerical Method มีค่าคาดเคลื่อนอย่างมากดังตัวอย่างต่อไปนี้\n",
    "root_finding_method(method=\"Bisection Method\", f=f, ini=[2,3], e_s=0.000000005, num=33)\n",
    "root_finding_method(method=\"False-Position Method\", f=f, ini=[2,3], e_s=0.000000005, num=4)\n",
    "root_finding_method(method=\"Newton Raphson Method\", f=f, ini=2, e_s=0.000000005, num=3)\n",
    "print(f\"เช็คว่า λ = 2.5385822078 ทำให้ f(2.5385822078) = {f(2.5385822078):.10f}\")\n",
    "print(\"เราจะเห็นว่าค่าที่ได้จากข้างต้น มีความคลาดเคลื่อนจากค่าที่ทำให้ f เข้าใกล้ 0 เป็นอย่างมากถึง 0.0092 ซึ่งมันมากเกินกว่าจะยอมรับได้\")"
   ]
  },
  {
   "cell_type": "markdown",
   "id": "f960879f",
   "metadata": {},
   "source": [
    "___\n",
    "### Linear stability of the origin (ต่อ)\n",
    "ดังนั้น เราจะได้สมการลักษณะเฉพาะ คือ $\\lambda^3 -\\frac{25}{3}\\lambda^2 + \\frac{898}{3}\\lambda - 720 = 0$ \\\n",
    "$\\lambda = 2.5293965440849 : \n",
    "\\begin{pmatrix}\n",
    "-10 - 2.5293965440849 & 10 & 0 \\\\\n",
    "28 & -1 - 2.5293965440849 & 0 \\\\\n",
    "0 & 0 & \\frac{8}{3} - 2.5293965440849\n",
    "\\end{pmatrix}\n",
    "\\begin{pmatrix}\n",
    "v_1 \\\\\n",
    "v_2 \\\\\n",
    "v_3\n",
    "\\end{pmatrix} \n",
    "= \n",
    "\\begin{pmatrix}\n",
    "0 \\\\\n",
    "0 \\\\\n",
    "0\n",
    "\\end{pmatrix}$\n",
    "\n",
    "จากข้างต้นสามารถเขียนเป็นระบบสมการได้ดังนี้\n",
    "$$\n",
    "\\begin{align}\n",
    "(-12.5293965440849)v_1 + 10v_2 & = 0 \\\\\n",
    "28v_1 - (3.5293965440849)v_2 & = 0 \\\\\n",
    "(0.13727012258177007)v_3 & = 0 \n",
    "\\end{align}\n",
    "$$\n",
    "และ $v_1 = 0, \\ v_2 = 0, \\ v_3 = 0$ \\\n",
    "จากที่เขียนมาทั้งหมด ทำให้เราได้คำตอบทั่วไป \n",
    "$x = c\n",
    "\\begin{pmatrix}\n",
    "0 \\\\\n",
    "0 \\\\\n",
    "0\n",
    "\\end{pmatrix}{\\rm e}^{2.5293965440849t} $ \n",
    "ซึ่งในตอนนี้เนื่องจากเรายังพึ่งได้เริ่มเรียน Dynamical system มาเพียงแค่ 3 สัปดาห์ เราจึงขอเก็บผลเฉลยทั่วไปนี้ไว้ก่อน \\\n",
    "ในคราวหน้า เราจะมาศึกษา Linear stability of the origin ในส่วนอื่นๆ กันต่อ\n",
    "(12/24/2023)"
   ]
  },
  {
   "cell_type": "code",
   "execution_count": null,
   "id": "0bce8f15",
   "metadata": {},
   "outputs": [],
   "source": []
  }
 ],
 "metadata": {
  "kernelspec": {
   "display_name": "Python 3 (ipykernel)",
   "language": "python",
   "name": "python3"
  },
  "language_info": {
   "codemirror_mode": {
    "name": "ipython",
    "version": 3
   },
   "file_extension": ".py",
   "mimetype": "text/x-python",
   "name": "python",
   "nbconvert_exporter": "python",
   "pygments_lexer": "ipython3",
   "version": "3.9.7"
  }
 },
 "nbformat": 4,
 "nbformat_minor": 5
}
