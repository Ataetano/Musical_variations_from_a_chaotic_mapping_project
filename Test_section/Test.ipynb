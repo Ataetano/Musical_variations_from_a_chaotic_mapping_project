{
 "cells": [
  {
   "cell_type": "markdown",
   "id": "b63ca0e9",
   "metadata": {},
   "source": [
    "# การทดสอบ THE CHAOTIC MAPPING\n",
    "สมการที่เราจะนำมาใช้จะมาจาก Paper ซึ่งเรียกกันในชื่อ <Strong>\"Lorenz equations\"</Strong>\n",
    "$$\n",
    "\\begin{align}\n",
    "\\dot{x} & = \\sigma(y - x), \\tag{1} \\\\\n",
    "\\dot{y} & = rx - y - xz, \\tag{2} \\\\\n",
    "\\dot{z} & = xy - bz, \\tag{3}\n",
    "\\end{align}\n",
    "$$ \n",
    "โดยกำหนดให้ $r=28, \\ \\sigma=10, \\ b=\\frac{8}{3}$ \\\n",
    "ถ้าเรา plot กราฟอย่างง่าย โดยไม่ได้แก้สมการเชิงอนุพันธ์ เราจะได้หน้าตาของ Lorenz equations ดังนี้"
   ]
  },
  {
   "cell_type": "code",
   "execution_count": 1,
   "id": "84532314",
   "metadata": {},
   "outputs": [
    {
     "data": {
      "application/vnd.jupyter.widget-view+json": {
       "model_id": "17cbff413111482386314e0d78664dea",
       "version_major": 2,
       "version_minor": 0
      },
      "text/plain": [
       "HBox(children=(VBox(children=(FloatText(value=0.0, description='x'), FloatText(value=0.0, description='y'), Fl…"
      ]
     },
     "metadata": {},
     "output_type": "display_data"
    }
   ],
   "source": [
    "#Plot หน้าตาของ Lorenz equations \n",
    "import matplotlib.pyplot as plt\n",
    "import numpy as np\n",
    "import ipywidgets as widgets\n",
    "from IPython.display import display, clear_output\n",
    "\n",
    "def lorenz(xyz, *, 𝜎=10, r=28, b=8/3):\n",
    "    \"\"\"\n",
    "    Parameters\n",
    "    ----------\n",
    "    xyz : array-like, shape (3,)\n",
    "       Point of interest in three-dimensional space.\n",
    "    𝜎, r, b : float\n",
    "       Parameters defining the Lorenz attractor.\n",
    "\n",
    "    Returns\n",
    "    -------\n",
    "    xyz_dot : array, shape (3,)\n",
    "       Values of the Lorenz attractor's partial derivatives at *xyz*.\n",
    "    \"\"\"\n",
    "    x, y, z = xyz\n",
    "    x_dot = 𝜎*(y - x)\n",
    "    y_dot = r*x - y - x*z\n",
    "    z_dot = x*y - b*z\n",
    "    return np.array([x_dot, y_dot, z_dot])\n",
    "\n",
    "def Lorenz_plotter(x, y, z, dt = 0.01, num_steps = 10000):\n",
    "    xyzs = np.empty((num_steps + 1, 3))  # Need one more for the initial values\n",
    "    xyzs[0] = (x, y, z)  # Set initial values\n",
    "    # Step through \"time\", calculating the partial derivatives at the current point\n",
    "    # and using them to estimate the next point\n",
    "    for i in range(num_steps):\n",
    "        xyzs[i + 1] = xyzs[i] + lorenz(xyzs[i]) * dt\n",
    "    \n",
    "    ax = plt.figure(figsize=(10,10)).add_subplot(projection='3d')\n",
    "    ax.plot(*xyzs.T, lw=0.5, color='green')\n",
    "    ax.set_xlabel(\"X Axis\")\n",
    "    ax.set_ylabel(\"Y Axis\")\n",
    "    ax.set_zlabel(\"Z Axis\")\n",
    "    ax.set_title(\"Lorenz Attractor\")\n",
    "    plt.show()\n",
    "    return \"Plot complete\"\n",
    "\n",
    "#Display Section\n",
    "x = widgets.FloatText(description='x')\n",
    "y = widgets.FloatText(description='y')\n",
    "z = widgets.FloatText(description='z')\n",
    "def calculate(btn):\n",
    "    with output:\n",
    "        clear_output() \n",
    "        display(Lorenz_plotter(x.value, y.value, z.value))\n",
    "    \n",
    "#User Interface Section\n",
    "output = widgets.Output()\n",
    "calc_button = widgets.Button(description='Calculate', layout=widgets.Layout(align_self='flex-end'))\n",
    "calc_button.on_click(calculate)\n",
    "\n",
    "ui1 = widgets.VBox([x, y, z, calc_button])\n",
    "outer = widgets.VBox([output])\n",
    "full_screen = widgets.HBox([ui1,outer])\n",
    "display(full_screen)"
   ]
  },
  {
   "cell_type": "code",
   "execution_count": null,
   "id": "13c9f4fe",
   "metadata": {},
   "outputs": [],
   "source": []
  }
 ],
 "metadata": {
  "kernelspec": {
   "display_name": "Python 3 (ipykernel)",
   "language": "python",
   "name": "python3"
  },
  "language_info": {
   "codemirror_mode": {
    "name": "ipython",
    "version": 3
   },
   "file_extension": ".py",
   "mimetype": "text/x-python",
   "name": "python",
   "nbconvert_exporter": "python",
   "pygments_lexer": "ipython3",
   "version": "3.9.7"
  }
 },
 "nbformat": 4,
 "nbformat_minor": 5
}
